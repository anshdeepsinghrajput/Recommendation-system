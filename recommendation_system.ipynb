{
  "nbformat": 4,
  "nbformat_minor": 0,
  "metadata": {
    "colab": {
      "provenance": [],
      "gpuType": "T4",
      "authorship_tag": "ABX9TyO76tKrCj20fxyX4fABqUVd",
      "include_colab_link": true
    },
    "kernelspec": {
      "name": "python3",
      "display_name": "Python 3"
    },
    "language_info": {
      "name": "python"
    },
    "accelerator": "GPU"
  },
  "cells": [
    {
      "cell_type": "markdown",
      "metadata": {
        "id": "view-in-github",
        "colab_type": "text"
      },
      "source": [
        "<a href=\"https://colab.research.google.com/github/anshdeepsinghrajput/Recommendation-system/blob/main/recommendation_system.ipynb\" target=\"_parent\"><img src=\"https://colab.research.google.com/assets/colab-badge.svg\" alt=\"Open In Colab\"/></a>"
      ]
    },
    {
      "cell_type": "code",
      "execution_count": null,
      "metadata": {
        "id": "BAgaD9HXNLEc"
      },
      "outputs": [],
      "source": [
        "import numpy as np\n",
        "import pandas as pd\n",
        "from sklearn import metrics , model_selection, preprocessing\n",
        "import torch\n",
        "import torch.nn as nn\n",
        "import matplotlib.pyplot as plt\n",
        "from torch.utils.data import DataLoader, Dataset"
      ]
    },
    {
      "cell_type": "code",
      "source": [
        "# device = torch.device('cuda' if torch.cuda.is_available() else \"cpu\")\n",
        "# device"
      ],
      "metadata": {
        "id": "l26LOFwpNj3r"
      },
      "execution_count": null,
      "outputs": []
    },
    {
      "cell_type": "code",
      "source": [
        "df = pd.read_csv('ratings.csv')\n",
        "df.head()"
      ],
      "metadata": {
        "colab": {
          "base_uri": "https://localhost:8080/",
          "height": 206
        },
        "id": "G9jWHAjKNnJI",
        "outputId": "f966084e-0a6d-4af7-85fa-5a0c93ff97d4"
      },
      "execution_count": null,
      "outputs": [
        {
          "output_type": "execute_result",
          "data": {
            "text/plain": [
              "   userId  movieId  rating  timestamp\n",
              "0       1        1     4.0  964982703\n",
              "1       1        3     4.0  964981247\n",
              "2       1        6     4.0  964982224\n",
              "3       1       47     5.0  964983815\n",
              "4       1       50     5.0  964982931"
            ],
            "text/html": [
              "\n",
              "  <div id=\"df-0f95b229-101f-4d98-8111-1284cd55366a\" class=\"colab-df-container\">\n",
              "    <div>\n",
              "<style scoped>\n",
              "    .dataframe tbody tr th:only-of-type {\n",
              "        vertical-align: middle;\n",
              "    }\n",
              "\n",
              "    .dataframe tbody tr th {\n",
              "        vertical-align: top;\n",
              "    }\n",
              "\n",
              "    .dataframe thead th {\n",
              "        text-align: right;\n",
              "    }\n",
              "</style>\n",
              "<table border=\"1\" class=\"dataframe\">\n",
              "  <thead>\n",
              "    <tr style=\"text-align: right;\">\n",
              "      <th></th>\n",
              "      <th>userId</th>\n",
              "      <th>movieId</th>\n",
              "      <th>rating</th>\n",
              "      <th>timestamp</th>\n",
              "    </tr>\n",
              "  </thead>\n",
              "  <tbody>\n",
              "    <tr>\n",
              "      <th>0</th>\n",
              "      <td>1</td>\n",
              "      <td>1</td>\n",
              "      <td>4.0</td>\n",
              "      <td>964982703</td>\n",
              "    </tr>\n",
              "    <tr>\n",
              "      <th>1</th>\n",
              "      <td>1</td>\n",
              "      <td>3</td>\n",
              "      <td>4.0</td>\n",
              "      <td>964981247</td>\n",
              "    </tr>\n",
              "    <tr>\n",
              "      <th>2</th>\n",
              "      <td>1</td>\n",
              "      <td>6</td>\n",
              "      <td>4.0</td>\n",
              "      <td>964982224</td>\n",
              "    </tr>\n",
              "    <tr>\n",
              "      <th>3</th>\n",
              "      <td>1</td>\n",
              "      <td>47</td>\n",
              "      <td>5.0</td>\n",
              "      <td>964983815</td>\n",
              "    </tr>\n",
              "    <tr>\n",
              "      <th>4</th>\n",
              "      <td>1</td>\n",
              "      <td>50</td>\n",
              "      <td>5.0</td>\n",
              "      <td>964982931</td>\n",
              "    </tr>\n",
              "  </tbody>\n",
              "</table>\n",
              "</div>\n",
              "    <div class=\"colab-df-buttons\">\n",
              "\n",
              "  <div class=\"colab-df-container\">\n",
              "    <button class=\"colab-df-convert\" onclick=\"convertToInteractive('df-0f95b229-101f-4d98-8111-1284cd55366a')\"\n",
              "            title=\"Convert this dataframe to an interactive table.\"\n",
              "            style=\"display:none;\">\n",
              "\n",
              "  <svg xmlns=\"http://www.w3.org/2000/svg\" height=\"24px\" viewBox=\"0 -960 960 960\">\n",
              "    <path d=\"M120-120v-720h720v720H120Zm60-500h600v-160H180v160Zm220 220h160v-160H400v160Zm0 220h160v-160H400v160ZM180-400h160v-160H180v160Zm440 0h160v-160H620v160ZM180-180h160v-160H180v160Zm440 0h160v-160H620v160Z\"/>\n",
              "  </svg>\n",
              "    </button>\n",
              "\n",
              "  <style>\n",
              "    .colab-df-container {\n",
              "      display:flex;\n",
              "      gap: 12px;\n",
              "    }\n",
              "\n",
              "    .colab-df-convert {\n",
              "      background-color: #E8F0FE;\n",
              "      border: none;\n",
              "      border-radius: 50%;\n",
              "      cursor: pointer;\n",
              "      display: none;\n",
              "      fill: #1967D2;\n",
              "      height: 32px;\n",
              "      padding: 0 0 0 0;\n",
              "      width: 32px;\n",
              "    }\n",
              "\n",
              "    .colab-df-convert:hover {\n",
              "      background-color: #E2EBFA;\n",
              "      box-shadow: 0px 1px 2px rgba(60, 64, 67, 0.3), 0px 1px 3px 1px rgba(60, 64, 67, 0.15);\n",
              "      fill: #174EA6;\n",
              "    }\n",
              "\n",
              "    .colab-df-buttons div {\n",
              "      margin-bottom: 4px;\n",
              "    }\n",
              "\n",
              "    [theme=dark] .colab-df-convert {\n",
              "      background-color: #3B4455;\n",
              "      fill: #D2E3FC;\n",
              "    }\n",
              "\n",
              "    [theme=dark] .colab-df-convert:hover {\n",
              "      background-color: #434B5C;\n",
              "      box-shadow: 0px 1px 3px 1px rgba(0, 0, 0, 0.15);\n",
              "      filter: drop-shadow(0px 1px 2px rgba(0, 0, 0, 0.3));\n",
              "      fill: #FFFFFF;\n",
              "    }\n",
              "  </style>\n",
              "\n",
              "    <script>\n",
              "      const buttonEl =\n",
              "        document.querySelector('#df-0f95b229-101f-4d98-8111-1284cd55366a button.colab-df-convert');\n",
              "      buttonEl.style.display =\n",
              "        google.colab.kernel.accessAllowed ? 'block' : 'none';\n",
              "\n",
              "      async function convertToInteractive(key) {\n",
              "        const element = document.querySelector('#df-0f95b229-101f-4d98-8111-1284cd55366a');\n",
              "        const dataTable =\n",
              "          await google.colab.kernel.invokeFunction('convertToInteractive',\n",
              "                                                    [key], {});\n",
              "        if (!dataTable) return;\n",
              "\n",
              "        const docLinkHtml = 'Like what you see? Visit the ' +\n",
              "          '<a target=\"_blank\" href=https://colab.research.google.com/notebooks/data_table.ipynb>data table notebook</a>'\n",
              "          + ' to learn more about interactive tables.';\n",
              "        element.innerHTML = '';\n",
              "        dataTable['output_type'] = 'display_data';\n",
              "        await google.colab.output.renderOutput(dataTable, element);\n",
              "        const docLink = document.createElement('div');\n",
              "        docLink.innerHTML = docLinkHtml;\n",
              "        element.appendChild(docLink);\n",
              "      }\n",
              "    </script>\n",
              "  </div>\n",
              "\n",
              "\n",
              "<div id=\"df-06a9fa28-f365-4e18-bbf2-e3052d26c2fa\">\n",
              "  <button class=\"colab-df-quickchart\" onclick=\"quickchart('df-06a9fa28-f365-4e18-bbf2-e3052d26c2fa')\"\n",
              "            title=\"Suggest charts\"\n",
              "            style=\"display:none;\">\n",
              "\n",
              "<svg xmlns=\"http://www.w3.org/2000/svg\" height=\"24px\"viewBox=\"0 0 24 24\"\n",
              "     width=\"24px\">\n",
              "    <g>\n",
              "        <path d=\"M19 3H5c-1.1 0-2 .9-2 2v14c0 1.1.9 2 2 2h14c1.1 0 2-.9 2-2V5c0-1.1-.9-2-2-2zM9 17H7v-7h2v7zm4 0h-2V7h2v10zm4 0h-2v-4h2v4z\"/>\n",
              "    </g>\n",
              "</svg>\n",
              "  </button>\n",
              "\n",
              "<style>\n",
              "  .colab-df-quickchart {\n",
              "      --bg-color: #E8F0FE;\n",
              "      --fill-color: #1967D2;\n",
              "      --hover-bg-color: #E2EBFA;\n",
              "      --hover-fill-color: #174EA6;\n",
              "      --disabled-fill-color: #AAA;\n",
              "      --disabled-bg-color: #DDD;\n",
              "  }\n",
              "\n",
              "  [theme=dark] .colab-df-quickchart {\n",
              "      --bg-color: #3B4455;\n",
              "      --fill-color: #D2E3FC;\n",
              "      --hover-bg-color: #434B5C;\n",
              "      --hover-fill-color: #FFFFFF;\n",
              "      --disabled-bg-color: #3B4455;\n",
              "      --disabled-fill-color: #666;\n",
              "  }\n",
              "\n",
              "  .colab-df-quickchart {\n",
              "    background-color: var(--bg-color);\n",
              "    border: none;\n",
              "    border-radius: 50%;\n",
              "    cursor: pointer;\n",
              "    display: none;\n",
              "    fill: var(--fill-color);\n",
              "    height: 32px;\n",
              "    padding: 0;\n",
              "    width: 32px;\n",
              "  }\n",
              "\n",
              "  .colab-df-quickchart:hover {\n",
              "    background-color: var(--hover-bg-color);\n",
              "    box-shadow: 0 1px 2px rgba(60, 64, 67, 0.3), 0 1px 3px 1px rgba(60, 64, 67, 0.15);\n",
              "    fill: var(--button-hover-fill-color);\n",
              "  }\n",
              "\n",
              "  .colab-df-quickchart-complete:disabled,\n",
              "  .colab-df-quickchart-complete:disabled:hover {\n",
              "    background-color: var(--disabled-bg-color);\n",
              "    fill: var(--disabled-fill-color);\n",
              "    box-shadow: none;\n",
              "  }\n",
              "\n",
              "  .colab-df-spinner {\n",
              "    border: 2px solid var(--fill-color);\n",
              "    border-color: transparent;\n",
              "    border-bottom-color: var(--fill-color);\n",
              "    animation:\n",
              "      spin 1s steps(1) infinite;\n",
              "  }\n",
              "\n",
              "  @keyframes spin {\n",
              "    0% {\n",
              "      border-color: transparent;\n",
              "      border-bottom-color: var(--fill-color);\n",
              "      border-left-color: var(--fill-color);\n",
              "    }\n",
              "    20% {\n",
              "      border-color: transparent;\n",
              "      border-left-color: var(--fill-color);\n",
              "      border-top-color: var(--fill-color);\n",
              "    }\n",
              "    30% {\n",
              "      border-color: transparent;\n",
              "      border-left-color: var(--fill-color);\n",
              "      border-top-color: var(--fill-color);\n",
              "      border-right-color: var(--fill-color);\n",
              "    }\n",
              "    40% {\n",
              "      border-color: transparent;\n",
              "      border-right-color: var(--fill-color);\n",
              "      border-top-color: var(--fill-color);\n",
              "    }\n",
              "    60% {\n",
              "      border-color: transparent;\n",
              "      border-right-color: var(--fill-color);\n",
              "    }\n",
              "    80% {\n",
              "      border-color: transparent;\n",
              "      border-right-color: var(--fill-color);\n",
              "      border-bottom-color: var(--fill-color);\n",
              "    }\n",
              "    90% {\n",
              "      border-color: transparent;\n",
              "      border-bottom-color: var(--fill-color);\n",
              "    }\n",
              "  }\n",
              "</style>\n",
              "\n",
              "  <script>\n",
              "    async function quickchart(key) {\n",
              "      const quickchartButtonEl =\n",
              "        document.querySelector('#' + key + ' button');\n",
              "      quickchartButtonEl.disabled = true;  // To prevent multiple clicks.\n",
              "      quickchartButtonEl.classList.add('colab-df-spinner');\n",
              "      try {\n",
              "        const charts = await google.colab.kernel.invokeFunction(\n",
              "            'suggestCharts', [key], {});\n",
              "      } catch (error) {\n",
              "        console.error('Error during call to suggestCharts:', error);\n",
              "      }\n",
              "      quickchartButtonEl.classList.remove('colab-df-spinner');\n",
              "      quickchartButtonEl.classList.add('colab-df-quickchart-complete');\n",
              "    }\n",
              "    (() => {\n",
              "      let quickchartButtonEl =\n",
              "        document.querySelector('#df-06a9fa28-f365-4e18-bbf2-e3052d26c2fa button');\n",
              "      quickchartButtonEl.style.display =\n",
              "        google.colab.kernel.accessAllowed ? 'block' : 'none';\n",
              "    })();\n",
              "  </script>\n",
              "</div>\n",
              "\n",
              "    </div>\n",
              "  </div>\n"
            ],
            "application/vnd.google.colaboratory.intrinsic+json": {
              "type": "dataframe",
              "variable_name": "df"
            }
          },
          "metadata": {},
          "execution_count": 22
        }
      ]
    },
    {
      "cell_type": "code",
      "source": [
        "df.info()"
      ],
      "metadata": {
        "colab": {
          "base_uri": "https://localhost:8080/"
        },
        "id": "lMaYWUiDNrI1",
        "outputId": "565251db-3dd0-4820-d662-54580f9a0d68"
      },
      "execution_count": null,
      "outputs": [
        {
          "output_type": "stream",
          "name": "stdout",
          "text": [
            "<class 'pandas.core.frame.DataFrame'>\n",
            "RangeIndex: 100836 entries, 0 to 100835\n",
            "Data columns (total 4 columns):\n",
            " #   Column     Non-Null Count   Dtype  \n",
            "---  ------     --------------   -----  \n",
            " 0   userId     100836 non-null  int64  \n",
            " 1   movieId    100836 non-null  int64  \n",
            " 2   rating     100836 non-null  float64\n",
            " 3   timestamp  100836 non-null  int64  \n",
            "dtypes: float64(1), int64(3)\n",
            "memory usage: 3.1 MB\n"
          ]
        }
      ]
    },
    {
      "cell_type": "markdown",
      "source": [
        "# **Training Dataset Class Wrapper**"
      ],
      "metadata": {
        "id": "6XZtWxu6N0kY"
      }
    },
    {
      "cell_type": "code",
      "source": [
        "class MovieDataset:\n",
        "    def __init__(self, users, movies, ratings):\n",
        "        self.users = users\n",
        "        self.movies = movies\n",
        "        self.ratings = ratings\n",
        "\n",
        "    # len(movie_dataset)\n",
        "    def __len__(self):\n",
        "        return len(self.users)\n",
        "\n",
        "    # movie_dataset[1]\n",
        "    def __getitem__(self, item):\n",
        "        users = self.users[item]\n",
        "        movies = self.movies[item]\n",
        "        ratings = self.ratings[item]\n",
        "\n",
        "        return {\n",
        "            \"users\" : torch.tensor(users, dtype = torch.long),\n",
        "            'movies' : torch.tensor(movies, dtype = torch.long),\n",
        "            'ratings' : torch.tensor(ratings, dtype = torch.long)\n",
        "        }"
      ],
      "metadata": {
        "id": "emHIcKfQNs-d"
      },
      "execution_count": null,
      "outputs": []
    },
    {
      "cell_type": "markdown",
      "source": [
        "# **Create the model**"
      ],
      "metadata": {
        "id": "DZPC9vf-OBn5"
      }
    },
    {
      "cell_type": "code",
      "source": [
        "class RecommendationModel(nn.Module):\n",
        "    def __init__(self, n_users, n_movies):\n",
        "        super().__init__()\n",
        "\n",
        "        # trainable lookup matrix for shallow embedding vectors\n",
        "        self.user_embed = nn.Embedding(n_users, 32)\n",
        "        self.movie_embed = nn.Embedding(n_movies, 32)\n",
        "\n",
        "        # user movie embedding concat\n",
        "        self.out = nn.Linear(64, 1)\n",
        "\n",
        "    def forward(self, users, movies, ratings = None):\n",
        "        user_embeds = self.user_embed(users)\n",
        "        movie_embeds = self.movie_embed(movies)\n",
        "        output = torch.cat([user_embeds,movie_embeds], dim = 1)\n",
        "\n",
        "        output = self.out(output)\n",
        "\n",
        "        return output"
      ],
      "metadata": {
        "id": "cVg_xRwfN--n"
      },
      "execution_count": null,
      "outputs": []
    },
    {
      "cell_type": "code",
      "source": [
        "# encode the user and movie id to start from 0 so we don't run into index out of bound with Embedding\n",
        "lbl_user = preprocessing.LabelEncoder()\n",
        "lbl_movie = preprocessing.LabelEncoder()\n",
        "df.userId = lbl_user.fit_transform(df.userId.values)\n",
        "df.movieId = lbl_movie.fit_transform(df.movieId.values)\n",
        "\n",
        "df_train, df_valid = model_selection.train_test_split(df, test_size=0.1, random_state=42, stratify=df.rating.values)\n",
        "\n",
        "train_dataset = MovieDataset(\n",
        "        users = df_train.userId.values,\n",
        "        movies = df_train.movieId.values,\n",
        "        ratings = df_train.rating.values)\n",
        "\n",
        "valid_dataset = MovieDataset(\n",
        "        users = df_valid.userId.values,\n",
        "        movies = df_valid.movieId.values,\n",
        "        ratings = df_valid.rating.values)"
      ],
      "metadata": {
        "id": "2ywFES3GOHOZ"
      },
      "execution_count": null,
      "outputs": []
    },
    {
      "cell_type": "code",
      "source": [
        "train_loader = DataLoader(train_dataset, batch_size=4, shuffle=True, num_workers=2)\n",
        "validation_loader = DataLoader(valid_dataset, batch_size=4, shuffle=True, num_workers=2)"
      ],
      "metadata": {
        "id": "IpQhFDCgOIsN"
      },
      "execution_count": null,
      "outputs": []
    },
    {
      "cell_type": "code",
      "source": [
        "model = RecommendationModel(\n",
        "        n_users = len(lbl_user.classes_),\n",
        "        n_movies = len(lbl_movie.classes_),\n",
        ")\n",
        "\n",
        "optimizer = torch.optim.Adam(model.parameters())\n",
        "sch = torch.optim.lr_scheduler.StepLR(optimizer, step_size=3, gamma = 0.7)\n",
        "\n",
        "loss_func = nn.MSELoss()"
      ],
      "metadata": {
        "id": "NoUjdywiOKVS"
      },
      "execution_count": null,
      "outputs": []
    },
    {
      "cell_type": "code",
      "source": [
        "print(len(lbl_user.classes_))\n",
        "print(len(lbl_movie.classes_))\n",
        "print(df.movieId.max())\n",
        "print(len(train_dataset))"
      ],
      "metadata": {
        "colab": {
          "base_uri": "https://localhost:8080/"
        },
        "id": "qQCmiXvTOLrq",
        "outputId": "dbe8a34e-1573-45c8-9953-1e6e52244218"
      },
      "execution_count": null,
      "outputs": [
        {
          "output_type": "stream",
          "name": "stdout",
          "text": [
            "610\n",
            "9724\n",
            "9723\n",
            "90752\n"
          ]
        }
      ]
    },
    {
      "cell_type": "code",
      "source": [
        "epochs = 1\n",
        "total_loss = 0\n",
        "plot_steps, print_steps = 5000, 5000\n",
        "step_cnt = 0\n",
        "all_losses_list = []\n",
        "\n",
        "model.train()\n",
        "for epoch_i in range(epochs):\n",
        "    for i, train_data in enumerate(train_loader):\n",
        "        output = model(train_data['users'], train_data[\"movies\"])\n",
        "\n",
        "        # view(4, -1) to reshape the rating to match the shape of model output\n",
        "        rating = train_data['ratings'].view(4,-1).to(torch.float32)\n",
        "\n",
        "        loss = loss_func(output, rating)\n",
        "        total_loss = total_loss + loss.sum().item()\n",
        "        optimizer.zero_grad()\n",
        "        loss.backward()\n",
        "        optimizer.step()\n",
        "\n",
        "        step_cnt = step_cnt + len(train_data['users'])\n",
        "\n",
        "        if (step_cnt % plot_steps == 0):\n",
        "            avg_loss = total_loss/(len(train_data['users']) * plot_steps)\n",
        "            print(f\"epoch {epoch_i} loss at step: {step_cnt} is {avg_loss}\")\n",
        "            all_losses_list.append(avg_loss)\n",
        "            total_loss = 0 # reset total loss"
      ],
      "metadata": {
        "colab": {
          "base_uri": "https://localhost:8080/"
        },
        "id": "bqW8c1rKOOKo",
        "outputId": "eeaac6e5-72ca-4d45-b05a-f3f80ec44409"
      },
      "execution_count": null,
      "outputs": [
        {
          "output_type": "stream",
          "name": "stdout",
          "text": [
            "epoch 0 loss at step: 5000 is 0.4332079911716282\n",
            "epoch 0 loss at step: 10000 is 0.16590388791924343\n",
            "epoch 0 loss at step: 15000 is 0.10733553168550133\n",
            "epoch 0 loss at step: 20000 is 0.08070742640187964\n",
            "epoch 0 loss at step: 25000 is 0.07063196193352342\n",
            "epoch 0 loss at step: 30000 is 0.06596689902851358\n",
            "epoch 0 loss at step: 35000 is 0.06482643673410639\n",
            "epoch 0 loss at step: 40000 is 0.06306144882403314\n",
            "epoch 0 loss at step: 45000 is 0.061438954237126746\n",
            "epoch 0 loss at step: 50000 is 0.059014785214420405\n",
            "epoch 0 loss at step: 55000 is 0.05803099979897961\n",
            "epoch 0 loss at step: 60000 is 0.05962407665569335\n",
            "epoch 0 loss at step: 65000 is 0.06082634996687993\n",
            "epoch 0 loss at step: 70000 is 0.055451769298780706\n",
            "epoch 0 loss at step: 75000 is 0.0590545153404586\n",
            "epoch 0 loss at step: 80000 is 0.05833494967399165\n",
            "epoch 0 loss at step: 85000 is 0.05758131215823814\n",
            "epoch 0 loss at step: 90000 is 0.05589889083635062\n"
          ]
        }
      ]
    },
    {
      "cell_type": "code",
      "source": [
        "plt.figure()\n",
        "plt.plot(all_losses_list)\n",
        "plt.show()"
      ],
      "metadata": {
        "colab": {
          "base_uri": "https://localhost:8080/",
          "height": 433
        },
        "id": "gVYrlFY4OPxK",
        "outputId": "afc26b02-4e17-4271-bb3e-510ca9605dd1"
      },
      "execution_count": null,
      "outputs": [
        {
          "output_type": "display_data",
          "data": {
            "text/plain": [
              "<Figure size 640x480 with 1 Axes>"
            ],
            "image/png": "[encoded data removed]"
          },
          "metadata": {}
        }
      ]
    },
    {
      "cell_type": "markdown",
      "source": [
        "# **Evaluation with RMSE**"
      ],
      "metadata": {
        "id": "BGJsc8yES-Uo"
      }
    },
    {
      "cell_type": "code",
      "source": [
        "from sklearn.metrics import mean_squared_error\n",
        "\n",
        "model_output_list = []\n",
        "target_rating_list = []\n",
        "\n",
        "model.eval()\n",
        "\n",
        "with torch.no_grad():\n",
        "    for i, batched_data in enumerate(validation_loader):\n",
        "        model_output = model(batched_data['users'], batched_data[\"movies\"])\n",
        "        model_output_list.append(model_output.sum().item() / len(batched_data['users']) )\n",
        "\n",
        "        target_rating = batched_data['ratings']\n",
        "        target_rating_list.append(target_rating.sum().item() / len(batched_data['users']) )\n",
        "\n",
        "        print(f'model_output: {model_output}, target_rating: {target_rating}')\n",
        "\n",
        "rmse = mean_squared_error(target_rating_list, model_output_list, squared=False)\n",
        "print(f'RMSE: {rmse}')"
      ],
      "metadata": {
        "collapsed": true,
        "id": "apa82CnpPgZs"
      },
      "execution_count": null,
      "outputs": []
    },
    {
      "cell_type": "code",
      "source": [
        "from collections import defaultdict\n",
        "\n",
        "# dict that store a list of predicted rating and actual rating pair of each other\n",
        "user_est_true = defaultdict(list)\n",
        "\n",
        "# iterate through the validation data to build the user -> [(y1,y1_hat), (y2, y2_hat)...]\n",
        "with torch.no_grad():\n",
        "    for i, batched_data in enumerate(validation_loader):\n",
        "        users = batched_data['users']\n",
        "        movies = batched_data[\"movies\"]\n",
        "        ratings = batched_data['ratings']\n",
        "\n",
        "        model_output = model(batched_data['users'], batched_data[\"movies\"])\n",
        "\n",
        "        for i in range(len(users)):\n",
        "            user_id = users[i].item()\n",
        "            movie_id = movies[i].item()\n",
        "            pred_rating = model_output[i][0].item()\n",
        "            true_rating = ratings[i].item()\n",
        "\n",
        "            print(f\"{user_id}, {movie_id}, {pred_rating}, {true_rating}\")\n",
        "            user_est_true[user_id].append((pred_rating, true_rating))"
      ],
      "metadata": {
        "id": "FrC0d1e-UOQq"
      },
      "execution_count": null,
      "outputs": []
    },
    {
      "cell_type": "code",
      "source": [
        "with torch.no_grad():\n",
        "    precision = dict()\n",
        "    recall = dict()\n",
        "\n",
        "    k = 100\n",
        "    threshold = 3.5\n",
        "\n",
        "    for uid, user_ratings in user_est_true.items():\n",
        "\n",
        "      # sort user ratings by estimated value\n",
        "      user_ratings.sort(key=lambda x: x[0], reverse=True)\n",
        "\n",
        "      # get the number of actual relevant item\n",
        "      n_rel = sum((true_r > threshold) for (_, true_r) in user_ratings)\n",
        "\n",
        "      # get the number of recommend item that are predicted relevant and within topk\n",
        "      n_rec_k = sum((est > threshold) for (est, _) in user_ratings[:k])\n",
        "\n",
        "      #  get the number of recommend item that is also actually relevalnt within topk\n",
        "      n_rel_and_rec_k = sum(((true_r > threshold) and (est > threshold))\n",
        "                            for (est, true_r) in user_ratings[:k])\n",
        "\n",
        "      print(f\" uid {uid}, n_rel {n_rel}, n_rec_k {n_rec_k}, n_rel_and_rec_k {n_rel_and_rec_k}\")\n",
        "\n",
        "      # calculate precision and recall\n",
        "      precision[uid] = n_rel_and_rec_k / n_rec_k if n_rec_k != 0 else 0\n",
        "      recall[uid] = n_rel_and_rec_k / n_rel if n_rel != 0 else 0"
      ],
      "metadata": {
        "collapsed": true,
        "id": "s_IMdQWvXVMP"
      },
      "execution_count": null,
      "outputs": []
    },
    {
      "cell_type": "code",
      "source": [
        "# precisioinn and recall can be averaged over all the users\n",
        "print(f\"Precision @ {100}: {sum(prec for prec in precision.values()) / len(precision)}\")\n",
        "print(f\"Recall @ {100}: {sum(rec for rec in recall.values()) / len(recall)}\")"
      ],
      "metadata": {
        "colab": {
          "base_uri": "https://localhost:8080/"
        },
        "id": "7pMIpaXyfZY_",
        "outputId": "b39ebcfa-18fc-424c-b1c1-3bd0f134a01c"
      },
      "execution_count": null,
      "outputs": [
        {
          "output_type": "stream",
          "name": "stdout",
          "text": [
            "Precision @ 100: 0.5500199994363533\n",
            "Recall @ 100: 0.5405403584878641\n"
          ]
        }
      ]
    },
    {
      "cell_type": "code",
      "source": [],
      "metadata": {
        "id": "ycv28sS7fwvM"
      },
      "execution_count": null,
      "outputs": []
    }
  ]
}